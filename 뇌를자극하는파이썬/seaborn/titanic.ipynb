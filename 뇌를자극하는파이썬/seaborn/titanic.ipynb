{
 "cells": [
  {
   "cell_type": "code",
   "id": "initial_id",
   "metadata": {
    "collapsed": true,
    "ExecuteTime": {
     "end_time": "2025-10-21T02:14:45.514243Z",
     "start_time": "2025-10-21T02:14:45.511845Z"
    }
   },
   "source": "import seaborn as sns",
   "outputs": [],
   "execution_count": 1
  },
  {
   "metadata": {
    "ExecuteTime": {
     "end_time": "2025-10-21T02:14:45.548115Z",
     "start_time": "2025-10-21T02:14:45.546383Z"
    }
   },
   "cell_type": "code",
   "source": "import pandas as pd",
   "id": "8ba71c4ede7045e6",
   "outputs": [],
   "execution_count": 2
  },
  {
   "metadata": {
    "ExecuteTime": {
     "end_time": "2025-10-21T02:14:45.670705Z",
     "start_time": "2025-10-21T02:14:45.554502Z"
    }
   },
   "cell_type": "code",
   "source": "titanic = sns.load_dataset(\"titanic\")",
   "id": "16d86bc39becddf1",
   "outputs": [],
   "execution_count": 3
  },
  {
   "metadata": {
    "ExecuteTime": {
     "end_time": "2025-10-21T02:20:21.645281Z",
     "start_time": "2025-10-21T02:20:21.642919Z"
    }
   },
   "cell_type": "code",
   "source": "# titanic.to_csv(path_or_buf='titanic.csv', index=False)",
   "id": "a657e81535252ec5",
   "outputs": [],
   "execution_count": 6
  },
  {
   "metadata": {
    "ExecuteTime": {
     "end_time": "2025-10-21T02:20:24.459958Z",
     "start_time": "2025-10-21T02:20:24.456002Z"
    }
   },
   "cell_type": "code",
   "source": "print(titanic.head())",
   "id": "cfcd074889ffd27b",
   "outputs": [
    {
     "name": "stdout",
     "output_type": "stream",
     "text": [
      "   survived  pclass     sex   age  sibsp  parch     fare embarked  class  \\\n",
      "0         0       3    male  22.0      1      0   7.2500        S  Third   \n",
      "1         1       1  female  38.0      1      0  71.2833        C  First   \n",
      "2         1       3  female  26.0      0      0   7.9250        S  Third   \n",
      "3         1       1  female  35.0      1      0  53.1000        S  First   \n",
      "4         0       3    male  35.0      0      0   8.0500        S  Third   \n",
      "\n",
      "     who  adult_male deck  embark_town alive  alone  \n",
      "0    man        True  NaN  Southampton    no  False  \n",
      "1  woman       False    C    Cherbourg   yes  False  \n",
      "2  woman       False  NaN  Southampton   yes   True  \n",
      "3  woman       False    C  Southampton   yes  False  \n",
      "4    man        True  NaN  Southampton    no   True  \n"
     ]
    }
   ],
   "execution_count": 7
  },
  {
   "metadata": {
    "ExecuteTime": {
     "end_time": "2025-10-21T02:14:51.821733Z",
     "start_time": "2025-10-21T02:14:51.819488Z"
    }
   },
   "cell_type": "code",
   "source": "",
   "id": "4c3df48050b8b0c",
   "outputs": [],
   "execution_count": null
  },
  {
   "metadata": {
    "ExecuteTime": {
     "end_time": "2025-10-21T02:20:27.153337Z",
     "start_time": "2025-10-21T02:20:27.150419Z"
    }
   },
   "cell_type": "code",
   "source": "print(titanic.isnull().sum())",
   "id": "cf9f6ea8def0338c",
   "outputs": [
    {
     "name": "stdout",
     "output_type": "stream",
     "text": [
      "survived         0\n",
      "pclass           0\n",
      "sex              0\n",
      "age            177\n",
      "sibsp            0\n",
      "parch            0\n",
      "fare             0\n",
      "embarked         2\n",
      "class            0\n",
      "who              0\n",
      "adult_male       0\n",
      "deck           688\n",
      "embark_town      2\n",
      "alive            0\n",
      "alone            0\n",
      "dtype: int64\n"
     ]
    }
   ],
   "execution_count": 8
  },
  {
   "metadata": {},
   "cell_type": "code",
   "outputs": [],
   "execution_count": null,
   "source": "",
   "id": "1d722b1ecf9409f7"
  }
 ],
 "metadata": {
  "kernelspec": {
   "display_name": "Python 3",
   "language": "python",
   "name": "python3"
  },
  "language_info": {
   "codemirror_mode": {
    "name": "ipython",
    "version": 2
   },
   "file_extension": ".py",
   "mimetype": "text/x-python",
   "name": "python",
   "nbconvert_exporter": "python",
   "pygments_lexer": "ipython2",
   "version": "2.7.6"
  }
 },
 "nbformat": 4,
 "nbformat_minor": 5
}
