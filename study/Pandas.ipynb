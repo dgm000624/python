{
 "cells": [
  {
   "cell_type": "code",
   "id": "initial_id",
   "metadata": {
    "collapsed": true,
    "ExecuteTime": {
     "end_time": "2025-10-23T00:26:05.406581Z",
     "start_time": "2025-10-23T00:26:05.404827Z"
    }
   },
   "source": [
    "import numpy as np\n",
    "import pandas as pd"
   ],
   "outputs": [],
   "execution_count": 3
  },
  {
   "metadata": {
    "ExecuteTime": {
     "end_time": "2025-10-22T05:27:41.927669Z",
     "start_time": "2025-10-22T05:27:41.924685Z"
    }
   },
   "cell_type": "code",
   "source": [
    "se = pd.Series([1,2,np.nan,4])\n",
    "se.isna()\n",
    "print(se)"
   ],
   "id": "6ee6a06cacc560db",
   "outputs": [
    {
     "name": "stdout",
     "output_type": "stream",
     "text": [
      "0    1.0\n",
      "1    2.0\n",
      "2    NaN\n",
      "3    4.0\n",
      "dtype: float64\n"
     ]
    }
   ],
   "execution_count": 8
  },
  {
   "metadata": {
    "ExecuteTime": {
     "end_time": "2025-10-22T05:29:05.333684Z",
     "start_time": "2025-10-22T05:29:05.330904Z"
    }
   },
   "cell_type": "code",
   "source": [
    "data = [1,2,np.nan, 4]\n",
    "indexed_se = pd.Series(data, index = ['a', 'b', 'c', 'd'])\n",
    "print(indexed_se)"
   ],
   "id": "fabb7734b493138c",
   "outputs": [
    {
     "name": "stdout",
     "output_type": "stream",
     "text": [
      "a    1.0\n",
      "b    2.0\n",
      "c    NaN\n",
      "d    4.0\n",
      "dtype: float64\n"
     ]
    }
   ],
   "execution_count": 9
  },
  {
   "metadata": {
    "ExecuteTime": {
     "end_time": "2025-10-22T05:37:48.017528Z",
     "start_time": "2025-10-22T05:37:48.014270Z"
    }
   },
   "cell_type": "code",
   "source": [
    "income = {\"1월\":1000, '2월':2000,'3월': 3000}\n",
    "a = pd.Series(income)\n",
    "print(a)"
   ],
   "id": "7d235d02db25ca9f",
   "outputs": [
    {
     "name": "stdout",
     "output_type": "stream",
     "text": [
      "1월    1000\n",
      "2월    2000\n",
      "3월    3000\n",
      "dtype: int64\n"
     ]
    }
   ],
   "execution_count": 10
  },
  {
   "metadata": {
    "ExecuteTime": {
     "end_time": "2025-10-22T05:46:36.467327Z",
     "start_time": "2025-10-22T05:46:36.465089Z"
    }
   },
   "cell_type": "code",
   "source": [
    "keys = ['a', 'b', 'c']\n",
    "values = [10,20,30]\n",
    "\n",
    "mydict = dict(zip(keys, values))\n",
    "print(mydict)"
   ],
   "id": "6e43270df4ecdf10",
   "outputs": [
    {
     "name": "stdout",
     "output_type": "stream",
     "text": [
      "{'a': 10, 'b': 20, 'c': 30}\n"
     ]
    }
   ],
   "execution_count": 12
  },
  {
   "metadata": {
    "ExecuteTime": {
     "end_time": "2025-10-22T06:03:38.487307Z",
     "start_time": "2025-10-22T06:03:37.692472Z"
    }
   },
   "cell_type": "code",
   "source": [
    "month = pd.Series(['1월', '2월', '3월', '4월'])\n",
    "income_se = pd.Series([9500, 6200, 6050, 7000])\n",
    "expense_se = pd.Series([5040, 2350, 2300, 4800])\n",
    "df = pd.DataFrame({\"월\" : month, \"수입\": income_se, '지출': expense_se})\n",
    "print(df)"
   ],
   "id": "bdf793ea2bd31645",
   "outputs": [
    {
     "data": {
      "text/plain": [
       "    월    수입    지출\n",
       "0  1월  9500  5040\n",
       "1  2월  6200  2350\n",
       "2  3월  6050  2300\n",
       "3  4월  7000  4800"
      ],
      "text/html": [
       "<div>\n",
       "<style scoped>\n",
       "    .dataframe tbody tr th:only-of-type {\n",
       "        vertical-align: middle;\n",
       "    }\n",
       "\n",
       "    .dataframe tbody tr th {\n",
       "        vertical-align: top;\n",
       "    }\n",
       "\n",
       "    .dataframe thead th {\n",
       "        text-align: right;\n",
       "    }\n",
       "</style>\n",
       "<table border=\"1\" class=\"dataframe\">\n",
       "  <thead>\n",
       "    <tr style=\"text-align: right;\">\n",
       "      <th></th>\n",
       "      <th>월</th>\n",
       "      <th>수입</th>\n",
       "      <th>지출</th>\n",
       "    </tr>\n",
       "  </thead>\n",
       "  <tbody>\n",
       "    <tr>\n",
       "      <th>0</th>\n",
       "      <td>1월</td>\n",
       "      <td>9500</td>\n",
       "      <td>5040</td>\n",
       "    </tr>\n",
       "    <tr>\n",
       "      <th>1</th>\n",
       "      <td>2월</td>\n",
       "      <td>6200</td>\n",
       "      <td>2350</td>\n",
       "    </tr>\n",
       "    <tr>\n",
       "      <th>2</th>\n",
       "      <td>3월</td>\n",
       "      <td>6050</td>\n",
       "      <td>2300</td>\n",
       "    </tr>\n",
       "    <tr>\n",
       "      <th>3</th>\n",
       "      <td>4월</td>\n",
       "      <td>7000</td>\n",
       "      <td>4800</td>\n",
       "    </tr>\n",
       "  </tbody>\n",
       "</table>\n",
       "</div>"
      ]
     },
     "execution_count": 14,
     "metadata": {},
     "output_type": "execute_result"
    }
   ],
   "execution_count": 14
  },
  {
   "metadata": {
    "ExecuteTime": {
     "end_time": "2025-10-22T06:12:21.305843Z",
     "start_time": "2025-10-22T06:12:21.302983Z"
    }
   },
   "cell_type": "code",
   "source": "print(np.argmax(income_se))",
   "id": "b3fdeb3ebcf10dc2",
   "outputs": [
    {
     "name": "stdout",
     "output_type": "stream",
     "text": [
      "0\n"
     ]
    }
   ],
   "execution_count": 15
  },
  {
   "metadata": {
    "ExecuteTime": {
     "end_time": "2025-10-22T06:12:52.879672Z",
     "start_time": "2025-10-22T06:12:52.876830Z"
    }
   },
   "cell_type": "code",
   "source": [
    "print(income_se[0])\n",
    "print(month[0])"
   ],
   "id": "980b2190d3874590",
   "outputs": [
    {
     "name": "stdout",
     "output_type": "stream",
     "text": [
      "9500\n",
      "1월\n"
     ]
    }
   ],
   "execution_count": 16
  },
  {
   "metadata": {
    "ExecuteTime": {
     "end_time": "2025-10-22T06:17:38.978459Z",
     "start_time": "2025-10-22T06:17:38.976096Z"
    }
   },
   "cell_type": "code",
   "source": [
    "print(f\"동윤이네 수입 합계는:{sum(df['수입'])}\")\n",
    "print(f\"동윤이네 지출 합계는:{sum(df['지출'])}\")"
   ],
   "id": "b669d88219b54994",
   "outputs": [
    {
     "name": "stdout",
     "output_type": "stream",
     "text": [
      "동윤이네 수입 합계는:28750\n",
      "동윤이네 지출 합계는:14490\n"
     ]
    }
   ],
   "execution_count": 18
  },
  {
   "metadata": {
    "ExecuteTime": {
     "end_time": "2025-10-23T00:26:16.443402Z",
     "start_time": "2025-10-23T00:26:15.261380Z"
    }
   },
   "cell_type": "code",
   "source": [
    "file = 'https://github.com/dongupak/DataML/raw/main/csv/vehicle_prod.csv'\n",
    "df = pd.read_csv(file, index_col=0)\n",
    "print(df)"
   ],
   "id": "588eececada63b63",
   "outputs": [
    {
     "name": "stdout",
     "output_type": "stream",
     "text": [
      "         2007   2008   2009   2010   2011\n",
      "China    7.71   7.95  11.96  15.84  16.33\n",
      "EU      19.02  17.71  15.00  16.70  17.48\n",
      "US      10.47   8.45   5.58   7.60   8.40\n",
      "Japan   10.87  10.83   7.55   9.09   7.88\n",
      "Korea    4.04   3.78   3.45   4.20   4.62\n",
      "Mexico   2.01   2.05   1.50   2.25   2.54\n"
     ]
    }
   ],
   "execution_count": 4
  },
  {
   "metadata": {
    "ExecuteTime": {
     "end_time": "2025-10-22T06:42:36.389252Z",
     "start_time": "2025-10-22T06:42:36.347656Z"
    }
   },
   "cell_type": "code",
   "source": [
    "file = 'https://github.com/dongupak/DataML/raw/main/csv/vehicle_prod.csv'\n",
    "df = pd.read_csv(file)"
   ],
   "id": "477bd081ca2aba9b",
   "outputs": [],
   "execution_count": 37
  },
  {
   "metadata": {
    "ExecuteTime": {
     "end_time": "2025-10-22T06:30:25.775222Z",
     "start_time": "2025-10-22T06:30:25.773203Z"
    }
   },
   "cell_type": "code",
   "source": [
    "column_list = df.columns.to_list()\n",
    "print(column_list)\n",
    "print()"
   ],
   "id": "9aa9cdefa5bbc9de",
   "outputs": [
    {
     "name": "stdout",
     "output_type": "stream",
     "text": [
      "['Unnamed: 0', '2007', '2008', '2009', '2010', '2011']\n"
     ]
    }
   ],
   "execution_count": 29
  },
  {
   "metadata": {
    "ExecuteTime": {
     "end_time": "2025-10-22T06:48:41.285142Z",
     "start_time": "2025-10-22T06:48:41.280997Z"
    }
   },
   "cell_type": "code",
   "source": [
    "df['total'] = df.sum(axis=1)\n",
    "print(df)"
   ],
   "id": "48acf518104a5b82",
   "outputs": [
    {
     "name": "stdout",
     "output_type": "stream",
     "text": [
      "         2007   2008   2009   2010   2011   total\n",
      "China    7.71   7.95  11.96  15.84  16.33  119.58\n",
      "EU      19.02  17.71  15.00  16.70  17.48  171.82\n",
      "US      10.47   8.45   5.58   7.60   8.40   81.00\n",
      "Japan   10.87  10.83   7.55   9.09   7.88   92.44\n",
      "Korea    4.04   3.78   3.45   4.20   4.62   40.18\n",
      "Mexico   2.01   2.05   1.50   2.25   2.54   20.70\n"
     ]
    }
   ],
   "execution_count": 43
  },
  {
   "metadata": {
    "ExecuteTime": {
     "end_time": "2025-10-22T07:04:54.466141Z",
     "start_time": "2025-10-22T07:04:54.414443Z"
    }
   },
   "cell_type": "code",
   "source": "df.loc['Total'] = [df['2007'].sum(),df['2008'].sum(),df['2009'].sum(),df['2010'].sum(),df['2011'].sum()]",
   "id": "a7fbf51215a3169d",
   "outputs": [
    {
     "ename": "ValueError",
     "evalue": "cannot set a row with mismatched columns",
     "output_type": "error",
     "traceback": [
      "\u001B[31m---------------------------------------------------------------------------\u001B[39m",
      "\u001B[31mValueError\u001B[39m                                Traceback (most recent call last)",
      "\u001B[36mCell\u001B[39m\u001B[36m \u001B[39m\u001B[32mIn[47]\u001B[39m\u001B[32m, line 1\u001B[39m\n\u001B[32m----> \u001B[39m\u001B[32m1\u001B[39m \u001B[43mdf\u001B[49m\u001B[43m.\u001B[49m\u001B[43mloc\u001B[49m\u001B[43m[\u001B[49m\u001B[33;43m'\u001B[39;49m\u001B[33;43mTotal\u001B[39;49m\u001B[33;43m'\u001B[39;49m\u001B[43m]\u001B[49m = [df[\u001B[33m'\u001B[39m\u001B[33m2007\u001B[39m\u001B[33m'\u001B[39m].sum(),df[\u001B[33m'\u001B[39m\u001B[33m2008\u001B[39m\u001B[33m'\u001B[39m].sum(),df[\u001B[33m'\u001B[39m\u001B[33m2009\u001B[39m\u001B[33m'\u001B[39m].sum(),df[\u001B[33m'\u001B[39m\u001B[33m2010\u001B[39m\u001B[33m'\u001B[39m].sum(),df[\u001B[33m'\u001B[39m\u001B[33m2011\u001B[39m\u001B[33m'\u001B[39m].sum()]\n",
      "\u001B[36mFile \u001B[39m\u001B[32mD:\\Code\\Phython\\.venv\\Lib\\site-packages\\pandas\\core\\indexing.py:912\u001B[39m, in \u001B[36m_LocationIndexer.__setitem__\u001B[39m\u001B[34m(self, key, value)\u001B[39m\n\u001B[32m    909\u001B[39m \u001B[38;5;28mself\u001B[39m._has_valid_setitem_indexer(key)\n\u001B[32m    911\u001B[39m iloc = \u001B[38;5;28mself\u001B[39m \u001B[38;5;28;01mif\u001B[39;00m \u001B[38;5;28mself\u001B[39m.name == \u001B[33m\"\u001B[39m\u001B[33miloc\u001B[39m\u001B[33m\"\u001B[39m \u001B[38;5;28;01melse\u001B[39;00m \u001B[38;5;28mself\u001B[39m.obj.iloc\n\u001B[32m--> \u001B[39m\u001B[32m912\u001B[39m \u001B[43miloc\u001B[49m\u001B[43m.\u001B[49m\u001B[43m_setitem_with_indexer\u001B[49m\u001B[43m(\u001B[49m\u001B[43mindexer\u001B[49m\u001B[43m,\u001B[49m\u001B[43m \u001B[49m\u001B[43mvalue\u001B[49m\u001B[43m,\u001B[49m\u001B[43m \u001B[49m\u001B[38;5;28;43mself\u001B[39;49m\u001B[43m.\u001B[49m\u001B[43mname\u001B[49m\u001B[43m)\u001B[49m\n",
      "\u001B[36mFile \u001B[39m\u001B[32mD:\\Code\\Phython\\.venv\\Lib\\site-packages\\pandas\\core\\indexing.py:1933\u001B[39m, in \u001B[36m_iLocIndexer._setitem_with_indexer\u001B[39m\u001B[34m(self, indexer, value, name)\u001B[39m\n\u001B[32m   1930\u001B[39m     indexer, missing = convert_missing_indexer(indexer)\n\u001B[32m   1932\u001B[39m     \u001B[38;5;28;01mif\u001B[39;00m missing:\n\u001B[32m-> \u001B[39m\u001B[32m1933\u001B[39m         \u001B[38;5;28;43mself\u001B[39;49m\u001B[43m.\u001B[49m\u001B[43m_setitem_with_indexer_missing\u001B[49m\u001B[43m(\u001B[49m\u001B[43mindexer\u001B[49m\u001B[43m,\u001B[49m\u001B[43m \u001B[49m\u001B[43mvalue\u001B[49m\u001B[43m)\u001B[49m\n\u001B[32m   1934\u001B[39m         \u001B[38;5;28;01mreturn\u001B[39;00m\n\u001B[32m   1936\u001B[39m \u001B[38;5;28;01mif\u001B[39;00m name == \u001B[33m\"\u001B[39m\u001B[33mloc\u001B[39m\u001B[33m\"\u001B[39m:\n\u001B[32m   1937\u001B[39m     \u001B[38;5;66;03m# must come after setting of missing\u001B[39;00m\n",
      "\u001B[36mFile \u001B[39m\u001B[32mD:\\Code\\Phython\\.venv\\Lib\\site-packages\\pandas\\core\\indexing.py:2307\u001B[39m, in \u001B[36m_iLocIndexer._setitem_with_indexer_missing\u001B[39m\u001B[34m(self, indexer, value)\u001B[39m\n\u001B[32m   2304\u001B[39m     \u001B[38;5;28;01mif\u001B[39;00m is_list_like_indexer(value):\n\u001B[32m   2305\u001B[39m         \u001B[38;5;66;03m# must have conforming columns\u001B[39;00m\n\u001B[32m   2306\u001B[39m         \u001B[38;5;28;01mif\u001B[39;00m \u001B[38;5;28mlen\u001B[39m(value) != \u001B[38;5;28mlen\u001B[39m(\u001B[38;5;28mself\u001B[39m.obj.columns):\n\u001B[32m-> \u001B[39m\u001B[32m2307\u001B[39m             \u001B[38;5;28;01mraise\u001B[39;00m \u001B[38;5;167;01mValueError\u001B[39;00m(\u001B[33m\"\u001B[39m\u001B[33mcannot set a row with mismatched columns\u001B[39m\u001B[33m\"\u001B[39m)\n\u001B[32m   2309\u001B[39m     value = Series(value, index=\u001B[38;5;28mself\u001B[39m.obj.columns, name=indexer)\n\u001B[32m   2311\u001B[39m \u001B[38;5;28;01mif\u001B[39;00m \u001B[38;5;129;01mnot\u001B[39;00m \u001B[38;5;28mlen\u001B[39m(\u001B[38;5;28mself\u001B[39m.obj):\n\u001B[32m   2312\u001B[39m     \u001B[38;5;66;03m# We will ignore the existing dtypes instead of using\u001B[39;00m\n\u001B[32m   2313\u001B[39m     \u001B[38;5;66;03m#  internals.concat logic\u001B[39;00m\n",
      "\u001B[31mValueError\u001B[39m: cannot set a row with mismatched columns"
     ]
    }
   ],
   "execution_count": 47
  },
  {
   "metadata": {
    "ExecuteTime": {
     "end_time": "2025-10-22T07:06:12.243752Z",
     "start_time": "2025-10-22T07:06:11.550218Z"
    }
   },
   "cell_type": "code",
   "source": [
    "file = 'https://github.com/dongupak/DataML/raw/main/csv/vehicle_prod.csv'\n",
    "df = pd.read_csv(file, index_col=0)\n",
    "df.loc['Total'] = [df['2007'].sum(),df['2008'].sum(),df['2009'].sum(),df['2010'].sum(),df['2011'].sum()]\n",
    "print(df)"
   ],
   "id": "38fa126392ff93d5",
   "outputs": [
    {
     "name": "stdout",
     "output_type": "stream",
     "text": [
      "         2007   2008   2009   2010   2011\n",
      "China    7.71   7.95  11.96  15.84  16.33\n",
      "EU      19.02  17.71  15.00  16.70  17.48\n",
      "US      10.47   8.45   5.58   7.60   8.40\n",
      "Japan   10.87  10.83   7.55   9.09   7.88\n",
      "Korea    4.04   3.78   3.45   4.20   4.62\n",
      "Mexico   2.01   2.05   1.50   2.25   2.54\n",
      "Total   54.12  50.77  45.04  55.68  57.25\n"
     ]
    }
   ],
   "execution_count": 52
  },
  {
   "metadata": {
    "ExecuteTime": {
     "end_time": "2025-10-23T00:32:38.381692Z",
     "start_time": "2025-10-23T00:32:38.374314Z"
    }
   },
   "cell_type": "code",
   "source": [
    "# df.iloc['Total'] = df.loc[df.indexs.tolist()].sum()\n",
    "df.loc['total']= df.loc[df.index.to_list()].sum()\n",
    "df['Total'] = df.sum(axis=1)\n",
    "df"
   ],
   "id": "c503ac428d5d8d",
   "outputs": [
    {
     "data": {
      "text/plain": [
       "          2007    2008    2009    2010    2011   Total\n",
       "China     7.71    7.95   11.96   15.84   16.33   59.79\n",
       "EU       19.02   17.71   15.00   16.70   17.48   85.91\n",
       "US       10.47    8.45    5.58    7.60    8.40   40.50\n",
       "Japan    10.87   10.83    7.55    9.09    7.88   46.22\n",
       "Korea     4.04    3.78    3.45    4.20    4.62   20.09\n",
       "Mexico    2.01    2.05    1.50    2.25    2.54   10.35\n",
       "total   162.36  152.31  135.12  167.04  171.75  788.58"
      ],
      "text/html": [
       "<div>\n",
       "<style scoped>\n",
       "    .dataframe tbody tr th:only-of-type {\n",
       "        vertical-align: middle;\n",
       "    }\n",
       "\n",
       "    .dataframe tbody tr th {\n",
       "        vertical-align: top;\n",
       "    }\n",
       "\n",
       "    .dataframe thead th {\n",
       "        text-align: right;\n",
       "    }\n",
       "</style>\n",
       "<table border=\"1\" class=\"dataframe\">\n",
       "  <thead>\n",
       "    <tr style=\"text-align: right;\">\n",
       "      <th></th>\n",
       "      <th>2007</th>\n",
       "      <th>2008</th>\n",
       "      <th>2009</th>\n",
       "      <th>2010</th>\n",
       "      <th>2011</th>\n",
       "      <th>Total</th>\n",
       "    </tr>\n",
       "  </thead>\n",
       "  <tbody>\n",
       "    <tr>\n",
       "      <th>China</th>\n",
       "      <td>7.71</td>\n",
       "      <td>7.95</td>\n",
       "      <td>11.96</td>\n",
       "      <td>15.84</td>\n",
       "      <td>16.33</td>\n",
       "      <td>59.79</td>\n",
       "    </tr>\n",
       "    <tr>\n",
       "      <th>EU</th>\n",
       "      <td>19.02</td>\n",
       "      <td>17.71</td>\n",
       "      <td>15.00</td>\n",
       "      <td>16.70</td>\n",
       "      <td>17.48</td>\n",
       "      <td>85.91</td>\n",
       "    </tr>\n",
       "    <tr>\n",
       "      <th>US</th>\n",
       "      <td>10.47</td>\n",
       "      <td>8.45</td>\n",
       "      <td>5.58</td>\n",
       "      <td>7.60</td>\n",
       "      <td>8.40</td>\n",
       "      <td>40.50</td>\n",
       "    </tr>\n",
       "    <tr>\n",
       "      <th>Japan</th>\n",
       "      <td>10.87</td>\n",
       "      <td>10.83</td>\n",
       "      <td>7.55</td>\n",
       "      <td>9.09</td>\n",
       "      <td>7.88</td>\n",
       "      <td>46.22</td>\n",
       "    </tr>\n",
       "    <tr>\n",
       "      <th>Korea</th>\n",
       "      <td>4.04</td>\n",
       "      <td>3.78</td>\n",
       "      <td>3.45</td>\n",
       "      <td>4.20</td>\n",
       "      <td>4.62</td>\n",
       "      <td>20.09</td>\n",
       "    </tr>\n",
       "    <tr>\n",
       "      <th>Mexico</th>\n",
       "      <td>2.01</td>\n",
       "      <td>2.05</td>\n",
       "      <td>1.50</td>\n",
       "      <td>2.25</td>\n",
       "      <td>2.54</td>\n",
       "      <td>10.35</td>\n",
       "    </tr>\n",
       "    <tr>\n",
       "      <th>total</th>\n",
       "      <td>162.36</td>\n",
       "      <td>152.31</td>\n",
       "      <td>135.12</td>\n",
       "      <td>167.04</td>\n",
       "      <td>171.75</td>\n",
       "      <td>788.58</td>\n",
       "    </tr>\n",
       "  </tbody>\n",
       "</table>\n",
       "</div>"
      ]
     },
     "execution_count": 21,
     "metadata": {},
     "output_type": "execute_result"
    }
   ],
   "execution_count": 21
  },
  {
   "metadata": {
    "ExecuteTime": {
     "end_time": "2025-10-23T00:33:26.294677Z",
     "start_time": "2025-10-23T00:33:25.204399Z"
    }
   },
   "cell_type": "code",
   "source": "df.loc[4,2]",
   "id": "18605dbad43e38de",
   "outputs": [
    {
     "ename": "KeyError",
     "evalue": "2",
     "output_type": "error",
     "traceback": [
      "\u001B[31m---------------------------------------------------------------------------\u001B[39m",
      "\u001B[31mKeyError\u001B[39m                                  Traceback (most recent call last)",
      "\u001B[36mFile \u001B[39m\u001B[32mD:\\Code\\Phython\\.venv\\Lib\\site-packages\\pandas\\core\\indexes\\base.py:3812\u001B[39m, in \u001B[36mIndex.get_loc\u001B[39m\u001B[34m(self, key)\u001B[39m\n\u001B[32m   3811\u001B[39m \u001B[38;5;28;01mtry\u001B[39;00m:\n\u001B[32m-> \u001B[39m\u001B[32m3812\u001B[39m     \u001B[38;5;28;01mreturn\u001B[39;00m \u001B[38;5;28;43mself\u001B[39;49m\u001B[43m.\u001B[49m\u001B[43m_engine\u001B[49m\u001B[43m.\u001B[49m\u001B[43mget_loc\u001B[49m\u001B[43m(\u001B[49m\u001B[43mcasted_key\u001B[49m\u001B[43m)\u001B[49m\n\u001B[32m   3813\u001B[39m \u001B[38;5;28;01mexcept\u001B[39;00m \u001B[38;5;167;01mKeyError\u001B[39;00m \u001B[38;5;28;01mas\u001B[39;00m err:\n",
      "\u001B[36mFile \u001B[39m\u001B[32mpandas/_libs/index.pyx:167\u001B[39m, in \u001B[36mpandas._libs.index.IndexEngine.get_loc\u001B[39m\u001B[34m()\u001B[39m\n",
      "\u001B[36mFile \u001B[39m\u001B[32mpandas/_libs/index.pyx:196\u001B[39m, in \u001B[36mpandas._libs.index.IndexEngine.get_loc\u001B[39m\u001B[34m()\u001B[39m\n",
      "\u001B[36mFile \u001B[39m\u001B[32mpandas/_libs/hashtable_class_helper.pxi:7088\u001B[39m, in \u001B[36mpandas._libs.hashtable.PyObjectHashTable.get_item\u001B[39m\u001B[34m()\u001B[39m\n",
      "\u001B[36mFile \u001B[39m\u001B[32mpandas/_libs/hashtable_class_helper.pxi:7096\u001B[39m, in \u001B[36mpandas._libs.hashtable.PyObjectHashTable.get_item\u001B[39m\u001B[34m()\u001B[39m\n",
      "\u001B[31mKeyError\u001B[39m: 2",
      "\nThe above exception was the direct cause of the following exception:\n",
      "\u001B[31mKeyError\u001B[39m                                  Traceback (most recent call last)",
      "\u001B[36mCell\u001B[39m\u001B[36m \u001B[39m\u001B[32mIn[23]\u001B[39m\u001B[32m, line 1\u001B[39m\n\u001B[32m----> \u001B[39m\u001B[32m1\u001B[39m \u001B[43mdf\u001B[49m\u001B[43m.\u001B[49m\u001B[43mloc\u001B[49m\u001B[43m[\u001B[49m\u001B[32;43m4\u001B[39;49m\u001B[43m,\u001B[49m\u001B[32;43m2\u001B[39;49m\u001B[43m]\u001B[49m\n",
      "\u001B[36mFile \u001B[39m\u001B[32mD:\\Code\\Phython\\.venv\\Lib\\site-packages\\pandas\\core\\indexing.py:1184\u001B[39m, in \u001B[36m_LocationIndexer.__getitem__\u001B[39m\u001B[34m(self, key)\u001B[39m\n\u001B[32m   1182\u001B[39m     key = \u001B[38;5;28mtuple\u001B[39m(com.apply_if_callable(x, \u001B[38;5;28mself\u001B[39m.obj) \u001B[38;5;28;01mfor\u001B[39;00m x \u001B[38;5;129;01min\u001B[39;00m key)\n\u001B[32m   1183\u001B[39m     \u001B[38;5;28;01mif\u001B[39;00m \u001B[38;5;28mself\u001B[39m._is_scalar_access(key):\n\u001B[32m-> \u001B[39m\u001B[32m1184\u001B[39m         \u001B[38;5;28;01mreturn\u001B[39;00m \u001B[38;5;28;43mself\u001B[39;49m\u001B[43m.\u001B[49m\u001B[43mobj\u001B[49m\u001B[43m.\u001B[49m\u001B[43m_get_value\u001B[49m\u001B[43m(\u001B[49m\u001B[43m*\u001B[49m\u001B[43mkey\u001B[49m\u001B[43m,\u001B[49m\u001B[43m \u001B[49m\u001B[43mtakeable\u001B[49m\u001B[43m=\u001B[49m\u001B[38;5;28;43mself\u001B[39;49m\u001B[43m.\u001B[49m\u001B[43m_takeable\u001B[49m\u001B[43m)\u001B[49m\n\u001B[32m   1185\u001B[39m     \u001B[38;5;28;01mreturn\u001B[39;00m \u001B[38;5;28mself\u001B[39m._getitem_tuple(key)\n\u001B[32m   1186\u001B[39m \u001B[38;5;28;01melse\u001B[39;00m:\n\u001B[32m   1187\u001B[39m     \u001B[38;5;66;03m# we by definition only have the 0th axis\u001B[39;00m\n",
      "\u001B[36mFile \u001B[39m\u001B[32mD:\\Code\\Phython\\.venv\\Lib\\site-packages\\pandas\\core\\frame.py:4225\u001B[39m, in \u001B[36mDataFrame._get_value\u001B[39m\u001B[34m(self, index, col, takeable)\u001B[39m\n\u001B[32m   4222\u001B[39m     series = \u001B[38;5;28mself\u001B[39m._ixs(col, axis=\u001B[32m1\u001B[39m)\n\u001B[32m   4223\u001B[39m     \u001B[38;5;28;01mreturn\u001B[39;00m series._values[index]\n\u001B[32m-> \u001B[39m\u001B[32m4225\u001B[39m series = \u001B[38;5;28;43mself\u001B[39;49m\u001B[43m.\u001B[49m\u001B[43m_get_item_cache\u001B[49m\u001B[43m(\u001B[49m\u001B[43mcol\u001B[49m\u001B[43m)\u001B[49m\n\u001B[32m   4226\u001B[39m engine = \u001B[38;5;28mself\u001B[39m.index._engine\n\u001B[32m   4228\u001B[39m \u001B[38;5;28;01mif\u001B[39;00m \u001B[38;5;129;01mnot\u001B[39;00m \u001B[38;5;28misinstance\u001B[39m(\u001B[38;5;28mself\u001B[39m.index, MultiIndex):\n\u001B[32m   4229\u001B[39m     \u001B[38;5;66;03m# CategoricalIndex: Trying to use the engine fastpath may give incorrect\u001B[39;00m\n\u001B[32m   4230\u001B[39m     \u001B[38;5;66;03m#  results if our categories are integers that dont match our codes\u001B[39;00m\n\u001B[32m   4231\u001B[39m     \u001B[38;5;66;03m# IntervalIndex: IntervalTree has no get_loc\u001B[39;00m\n",
      "\u001B[36mFile \u001B[39m\u001B[32mD:\\Code\\Phython\\.venv\\Lib\\site-packages\\pandas\\core\\frame.py:4649\u001B[39m, in \u001B[36mDataFrame._get_item_cache\u001B[39m\u001B[34m(self, item)\u001B[39m\n\u001B[32m   4644\u001B[39m res = cache.get(item)\n\u001B[32m   4645\u001B[39m \u001B[38;5;28;01mif\u001B[39;00m res \u001B[38;5;129;01mis\u001B[39;00m \u001B[38;5;28;01mNone\u001B[39;00m:\n\u001B[32m   4646\u001B[39m     \u001B[38;5;66;03m# All places that call _get_item_cache have unique columns,\u001B[39;00m\n\u001B[32m   4647\u001B[39m     \u001B[38;5;66;03m#  pending resolution of GH#33047\u001B[39;00m\n\u001B[32m-> \u001B[39m\u001B[32m4649\u001B[39m     loc = \u001B[38;5;28;43mself\u001B[39;49m\u001B[43m.\u001B[49m\u001B[43mcolumns\u001B[49m\u001B[43m.\u001B[49m\u001B[43mget_loc\u001B[49m\u001B[43m(\u001B[49m\u001B[43mitem\u001B[49m\u001B[43m)\u001B[49m\n\u001B[32m   4650\u001B[39m     res = \u001B[38;5;28mself\u001B[39m._ixs(loc, axis=\u001B[32m1\u001B[39m)\n\u001B[32m   4652\u001B[39m     cache[item] = res\n",
      "\u001B[36mFile \u001B[39m\u001B[32mD:\\Code\\Phython\\.venv\\Lib\\site-packages\\pandas\\core\\indexes\\base.py:3819\u001B[39m, in \u001B[36mIndex.get_loc\u001B[39m\u001B[34m(self, key)\u001B[39m\n\u001B[32m   3814\u001B[39m     \u001B[38;5;28;01mif\u001B[39;00m \u001B[38;5;28misinstance\u001B[39m(casted_key, \u001B[38;5;28mslice\u001B[39m) \u001B[38;5;129;01mor\u001B[39;00m (\n\u001B[32m   3815\u001B[39m         \u001B[38;5;28misinstance\u001B[39m(casted_key, abc.Iterable)\n\u001B[32m   3816\u001B[39m         \u001B[38;5;129;01mand\u001B[39;00m \u001B[38;5;28many\u001B[39m(\u001B[38;5;28misinstance\u001B[39m(x, \u001B[38;5;28mslice\u001B[39m) \u001B[38;5;28;01mfor\u001B[39;00m x \u001B[38;5;129;01min\u001B[39;00m casted_key)\n\u001B[32m   3817\u001B[39m     ):\n\u001B[32m   3818\u001B[39m         \u001B[38;5;28;01mraise\u001B[39;00m InvalidIndexError(key)\n\u001B[32m-> \u001B[39m\u001B[32m3819\u001B[39m     \u001B[38;5;28;01mraise\u001B[39;00m \u001B[38;5;167;01mKeyError\u001B[39;00m(key) \u001B[38;5;28;01mfrom\u001B[39;00m\u001B[38;5;250m \u001B[39m\u001B[34;01merr\u001B[39;00m\n\u001B[32m   3820\u001B[39m \u001B[38;5;28;01mexcept\u001B[39;00m \u001B[38;5;167;01mTypeError\u001B[39;00m:\n\u001B[32m   3821\u001B[39m     \u001B[38;5;66;03m# If we have a listlike key, _check_indexing_error will raise\u001B[39;00m\n\u001B[32m   3822\u001B[39m     \u001B[38;5;66;03m#  InvalidIndexError. Otherwise we fall through and re-raise\u001B[39;00m\n\u001B[32m   3823\u001B[39m     \u001B[38;5;66;03m#  the TypeError.\u001B[39;00m\n\u001B[32m   3824\u001B[39m     \u001B[38;5;28mself\u001B[39m._check_indexing_error(key)\n",
      "\u001B[31mKeyError\u001B[39m: 2"
     ]
    }
   ],
   "execution_count": 23
  },
  {
   "metadata": {
    "ExecuteTime": {
     "end_time": "2025-10-23T00:39:20.801087Z",
     "start_time": "2025-10-23T00:39:20.085971Z"
    }
   },
   "cell_type": "code",
   "source": [
    "import pandas as pd\n",
    "import numpy as np\n",
    "weather = pd.read_csv('https://github.com/dongupak/DataML/raw/main/csv/weather.csv',index_col=0, encoding='CP949')\n",
    "weather"
   ],
   "id": "8edc9a06bd1c8fcf",
   "outputs": [
    {
     "data": {
      "text/plain": [
       "            평균기온  최대풍속  평균풍속\n",
       "일시                          \n",
       "2010-08-01  28.7   8.3   3.4\n",
       "2010-08-02  25.2   8.7   3.8\n",
       "2010-08-03  22.1   6.3   2.9\n",
       "2010-08-04  25.3   6.6   4.2\n",
       "2010-08-05  27.2   9.1   5.6\n",
       "...          ...   ...   ...\n",
       "2020-07-27  22.1   4.2   1.7\n",
       "2020-07-28  21.9   4.5   1.6\n",
       "2020-07-29  21.6   3.2   1.0\n",
       "2020-07-30  22.9   9.7   2.4\n",
       "2020-07-31  25.7   4.8   2.5\n",
       "\n",
       "[3653 rows x 3 columns]"
      ],
      "text/html": [
       "<div>\n",
       "<style scoped>\n",
       "    .dataframe tbody tr th:only-of-type {\n",
       "        vertical-align: middle;\n",
       "    }\n",
       "\n",
       "    .dataframe tbody tr th {\n",
       "        vertical-align: top;\n",
       "    }\n",
       "\n",
       "    .dataframe thead th {\n",
       "        text-align: right;\n",
       "    }\n",
       "</style>\n",
       "<table border=\"1\" class=\"dataframe\">\n",
       "  <thead>\n",
       "    <tr style=\"text-align: right;\">\n",
       "      <th></th>\n",
       "      <th>평균기온</th>\n",
       "      <th>최대풍속</th>\n",
       "      <th>평균풍속</th>\n",
       "    </tr>\n",
       "    <tr>\n",
       "      <th>일시</th>\n",
       "      <th></th>\n",
       "      <th></th>\n",
       "      <th></th>\n",
       "    </tr>\n",
       "  </thead>\n",
       "  <tbody>\n",
       "    <tr>\n",
       "      <th>2010-08-01</th>\n",
       "      <td>28.7</td>\n",
       "      <td>8.3</td>\n",
       "      <td>3.4</td>\n",
       "    </tr>\n",
       "    <tr>\n",
       "      <th>2010-08-02</th>\n",
       "      <td>25.2</td>\n",
       "      <td>8.7</td>\n",
       "      <td>3.8</td>\n",
       "    </tr>\n",
       "    <tr>\n",
       "      <th>2010-08-03</th>\n",
       "      <td>22.1</td>\n",
       "      <td>6.3</td>\n",
       "      <td>2.9</td>\n",
       "    </tr>\n",
       "    <tr>\n",
       "      <th>2010-08-04</th>\n",
       "      <td>25.3</td>\n",
       "      <td>6.6</td>\n",
       "      <td>4.2</td>\n",
       "    </tr>\n",
       "    <tr>\n",
       "      <th>2010-08-05</th>\n",
       "      <td>27.2</td>\n",
       "      <td>9.1</td>\n",
       "      <td>5.6</td>\n",
       "    </tr>\n",
       "    <tr>\n",
       "      <th>...</th>\n",
       "      <td>...</td>\n",
       "      <td>...</td>\n",
       "      <td>...</td>\n",
       "    </tr>\n",
       "    <tr>\n",
       "      <th>2020-07-27</th>\n",
       "      <td>22.1</td>\n",
       "      <td>4.2</td>\n",
       "      <td>1.7</td>\n",
       "    </tr>\n",
       "    <tr>\n",
       "      <th>2020-07-28</th>\n",
       "      <td>21.9</td>\n",
       "      <td>4.5</td>\n",
       "      <td>1.6</td>\n",
       "    </tr>\n",
       "    <tr>\n",
       "      <th>2020-07-29</th>\n",
       "      <td>21.6</td>\n",
       "      <td>3.2</td>\n",
       "      <td>1.0</td>\n",
       "    </tr>\n",
       "    <tr>\n",
       "      <th>2020-07-30</th>\n",
       "      <td>22.9</td>\n",
       "      <td>9.7</td>\n",
       "      <td>2.4</td>\n",
       "    </tr>\n",
       "    <tr>\n",
       "      <th>2020-07-31</th>\n",
       "      <td>25.7</td>\n",
       "      <td>4.8</td>\n",
       "      <td>2.5</td>\n",
       "    </tr>\n",
       "  </tbody>\n",
       "</table>\n",
       "<p>3653 rows × 3 columns</p>\n",
       "</div>"
      ]
     },
     "execution_count": 26,
     "metadata": {},
     "output_type": "execute_result"
    }
   ],
   "execution_count": 26
  },
  {
   "metadata": {
    "ExecuteTime": {
     "end_time": "2025-10-23T00:39:37.908631Z",
     "start_time": "2025-10-23T00:39:37.903484Z"
    }
   },
   "cell_type": "code",
   "source": "weather.head()",
   "id": "a355ea7087556bbf",
   "outputs": [
    {
     "data": {
      "text/plain": [
       "            평균기온  최대풍속  평균풍속\n",
       "일시                          \n",
       "2010-08-01  28.7   8.3   3.4\n",
       "2010-08-02  25.2   8.7   3.8\n",
       "2010-08-03  22.1   6.3   2.9\n",
       "2010-08-04  25.3   6.6   4.2\n",
       "2010-08-05  27.2   9.1   5.6"
      ],
      "text/html": [
       "<div>\n",
       "<style scoped>\n",
       "    .dataframe tbody tr th:only-of-type {\n",
       "        vertical-align: middle;\n",
       "    }\n",
       "\n",
       "    .dataframe tbody tr th {\n",
       "        vertical-align: top;\n",
       "    }\n",
       "\n",
       "    .dataframe thead th {\n",
       "        text-align: right;\n",
       "    }\n",
       "</style>\n",
       "<table border=\"1\" class=\"dataframe\">\n",
       "  <thead>\n",
       "    <tr style=\"text-align: right;\">\n",
       "      <th></th>\n",
       "      <th>평균기온</th>\n",
       "      <th>최대풍속</th>\n",
       "      <th>평균풍속</th>\n",
       "    </tr>\n",
       "    <tr>\n",
       "      <th>일시</th>\n",
       "      <th></th>\n",
       "      <th></th>\n",
       "      <th></th>\n",
       "    </tr>\n",
       "  </thead>\n",
       "  <tbody>\n",
       "    <tr>\n",
       "      <th>2010-08-01</th>\n",
       "      <td>28.7</td>\n",
       "      <td>8.3</td>\n",
       "      <td>3.4</td>\n",
       "    </tr>\n",
       "    <tr>\n",
       "      <th>2010-08-02</th>\n",
       "      <td>25.2</td>\n",
       "      <td>8.7</td>\n",
       "      <td>3.8</td>\n",
       "    </tr>\n",
       "    <tr>\n",
       "      <th>2010-08-03</th>\n",
       "      <td>22.1</td>\n",
       "      <td>6.3</td>\n",
       "      <td>2.9</td>\n",
       "    </tr>\n",
       "    <tr>\n",
       "      <th>2010-08-04</th>\n",
       "      <td>25.3</td>\n",
       "      <td>6.6</td>\n",
       "      <td>4.2</td>\n",
       "    </tr>\n",
       "    <tr>\n",
       "      <th>2010-08-05</th>\n",
       "      <td>27.2</td>\n",
       "      <td>9.1</td>\n",
       "      <td>5.6</td>\n",
       "    </tr>\n",
       "  </tbody>\n",
       "</table>\n",
       "</div>"
      ]
     },
     "execution_count": 27,
     "metadata": {},
     "output_type": "execute_result"
    }
   ],
   "execution_count": 27
  },
  {
   "metadata": {
    "ExecuteTime": {
     "end_time": "2025-10-23T00:39:46.924166Z",
     "start_time": "2025-10-23T00:39:46.919684Z"
    }
   },
   "cell_type": "code",
   "source": "weather.tail()",
   "id": "c98780437ffac9fd",
   "outputs": [
    {
     "data": {
      "text/plain": [
       "            평균기온  최대풍속  평균풍속\n",
       "일시                          \n",
       "2020-07-27  22.1   4.2   1.7\n",
       "2020-07-28  21.9   4.5   1.6\n",
       "2020-07-29  21.6   3.2   1.0\n",
       "2020-07-30  22.9   9.7   2.4\n",
       "2020-07-31  25.7   4.8   2.5"
      ],
      "text/html": [
       "<div>\n",
       "<style scoped>\n",
       "    .dataframe tbody tr th:only-of-type {\n",
       "        vertical-align: middle;\n",
       "    }\n",
       "\n",
       "    .dataframe tbody tr th {\n",
       "        vertical-align: top;\n",
       "    }\n",
       "\n",
       "    .dataframe thead th {\n",
       "        text-align: right;\n",
       "    }\n",
       "</style>\n",
       "<table border=\"1\" class=\"dataframe\">\n",
       "  <thead>\n",
       "    <tr style=\"text-align: right;\">\n",
       "      <th></th>\n",
       "      <th>평균기온</th>\n",
       "      <th>최대풍속</th>\n",
       "      <th>평균풍속</th>\n",
       "    </tr>\n",
       "    <tr>\n",
       "      <th>일시</th>\n",
       "      <th></th>\n",
       "      <th></th>\n",
       "      <th></th>\n",
       "    </tr>\n",
       "  </thead>\n",
       "  <tbody>\n",
       "    <tr>\n",
       "      <th>2020-07-27</th>\n",
       "      <td>22.1</td>\n",
       "      <td>4.2</td>\n",
       "      <td>1.7</td>\n",
       "    </tr>\n",
       "    <tr>\n",
       "      <th>2020-07-28</th>\n",
       "      <td>21.9</td>\n",
       "      <td>4.5</td>\n",
       "      <td>1.6</td>\n",
       "    </tr>\n",
       "    <tr>\n",
       "      <th>2020-07-29</th>\n",
       "      <td>21.6</td>\n",
       "      <td>3.2</td>\n",
       "      <td>1.0</td>\n",
       "    </tr>\n",
       "    <tr>\n",
       "      <th>2020-07-30</th>\n",
       "      <td>22.9</td>\n",
       "      <td>9.7</td>\n",
       "      <td>2.4</td>\n",
       "    </tr>\n",
       "    <tr>\n",
       "      <th>2020-07-31</th>\n",
       "      <td>25.7</td>\n",
       "      <td>4.8</td>\n",
       "      <td>2.5</td>\n",
       "    </tr>\n",
       "  </tbody>\n",
       "</table>\n",
       "</div>"
      ]
     },
     "execution_count": 28,
     "metadata": {},
     "output_type": "execute_result"
    }
   ],
   "execution_count": 28
  },
  {
   "metadata": {
    "ExecuteTime": {
     "end_time": "2025-10-23T00:40:00.861466Z",
     "start_time": "2025-10-23T00:40:00.817451Z"
    }
   },
   "cell_type": "code",
   "source": "print(weather.describe())",
   "id": "ea86484ba283eeda",
   "outputs": [
    {
     "name": "stdout",
     "output_type": "stream",
     "text": [
      "              평균기온         최대풍속         평균풍속\n",
      "count  3653.000000  3649.000000  3647.000000\n",
      "mean     12.942102     7.911099     3.936441\n",
      "std       8.538507     3.029862     1.888473\n",
      "min      -9.000000     2.000000     0.200000\n",
      "25%       5.400000     5.700000     2.500000\n",
      "50%      13.800000     7.600000     3.600000\n",
      "75%      20.100000     9.700000     5.000000\n",
      "max      31.300000    26.000000    14.900000\n"
     ]
    }
   ],
   "execution_count": 29
  },
  {
   "metadata": {
    "ExecuteTime": {
     "end_time": "2025-10-23T00:45:16.472598Z",
     "start_time": "2025-10-23T00:45:16.468901Z"
    }
   },
   "cell_type": "code",
   "source": "weather.isna().count()",
   "id": "3c118ea9a9d65e6a",
   "outputs": [
    {
     "data": {
      "text/plain": [
       "평균기온    3653\n",
       "최대풍속    3653\n",
       "평균풍속    3653\n",
       "dtype: int64"
      ]
     },
     "execution_count": 31,
     "metadata": {},
     "output_type": "execute_result"
    }
   ],
   "execution_count": 31
  },
  {
   "metadata": {
    "ExecuteTime": {
     "end_time": "2025-10-23T00:45:58.690010Z",
     "start_time": "2025-10-23T00:45:58.684998Z"
    }
   },
   "cell_type": "code",
   "source": "weather[weather['평균풍속'].isna()]",
   "id": "8976ddff8cbc5a47",
   "outputs": [
    {
     "data": {
      "text/plain": [
       "            평균기온  최대풍속  평균풍속\n",
       "일시                          \n",
       "2012-02-11  -0.7   NaN   NaN\n",
       "2012-02-12   0.4   NaN   NaN\n",
       "2012-02-13   4.0   NaN   NaN\n",
       "2015-03-22  10.1  11.6   NaN\n",
       "2015-04-01   7.3  12.1   NaN\n",
       "2019-04-18  15.7  11.7   NaN"
      ],
      "text/html": [
       "<div>\n",
       "<style scoped>\n",
       "    .dataframe tbody tr th:only-of-type {\n",
       "        vertical-align: middle;\n",
       "    }\n",
       "\n",
       "    .dataframe tbody tr th {\n",
       "        vertical-align: top;\n",
       "    }\n",
       "\n",
       "    .dataframe thead th {\n",
       "        text-align: right;\n",
       "    }\n",
       "</style>\n",
       "<table border=\"1\" class=\"dataframe\">\n",
       "  <thead>\n",
       "    <tr style=\"text-align: right;\">\n",
       "      <th></th>\n",
       "      <th>평균기온</th>\n",
       "      <th>최대풍속</th>\n",
       "      <th>평균풍속</th>\n",
       "    </tr>\n",
       "    <tr>\n",
       "      <th>일시</th>\n",
       "      <th></th>\n",
       "      <th></th>\n",
       "      <th></th>\n",
       "    </tr>\n",
       "  </thead>\n",
       "  <tbody>\n",
       "    <tr>\n",
       "      <th>2012-02-11</th>\n",
       "      <td>-0.7</td>\n",
       "      <td>NaN</td>\n",
       "      <td>NaN</td>\n",
       "    </tr>\n",
       "    <tr>\n",
       "      <th>2012-02-12</th>\n",
       "      <td>0.4</td>\n",
       "      <td>NaN</td>\n",
       "      <td>NaN</td>\n",
       "    </tr>\n",
       "    <tr>\n",
       "      <th>2012-02-13</th>\n",
       "      <td>4.0</td>\n",
       "      <td>NaN</td>\n",
       "      <td>NaN</td>\n",
       "    </tr>\n",
       "    <tr>\n",
       "      <th>2015-03-22</th>\n",
       "      <td>10.1</td>\n",
       "      <td>11.6</td>\n",
       "      <td>NaN</td>\n",
       "    </tr>\n",
       "    <tr>\n",
       "      <th>2015-04-01</th>\n",
       "      <td>7.3</td>\n",
       "      <td>12.1</td>\n",
       "      <td>NaN</td>\n",
       "    </tr>\n",
       "    <tr>\n",
       "      <th>2019-04-18</th>\n",
       "      <td>15.7</td>\n",
       "      <td>11.7</td>\n",
       "      <td>NaN</td>\n",
       "    </tr>\n",
       "  </tbody>\n",
       "</table>\n",
       "</div>"
      ]
     },
     "execution_count": 32,
     "metadata": {},
     "output_type": "execute_result"
    }
   ],
   "execution_count": 32
  },
  {
   "metadata": {
    "ExecuteTime": {
     "end_time": "2025-10-23T00:50:42.512460Z",
     "start_time": "2025-10-23T00:50:42.508805Z"
    }
   },
   "cell_type": "code",
   "source": "weather[weather['평균기온']>0].min()",
   "id": "5533545e74773a0c",
   "outputs": [
    {
     "data": {
      "text/plain": [
       "평균기온    0.1\n",
       "최대풍속    2.0\n",
       "평균풍속    0.2\n",
       "dtype: float64"
      ]
     },
     "execution_count": 34,
     "metadata": {},
     "output_type": "execute_result"
    }
   ],
   "execution_count": 34
  },
  {
   "metadata": {
    "ExecuteTime": {
     "end_time": "2025-10-23T01:03:36.475889Z",
     "start_time": "2025-10-23T01:03:36.471497Z"
    }
   },
   "cell_type": "code",
   "source": "weather[weather['평균기온']==weather['평균기온'].max()]",
   "id": "10c93a465986b5e9",
   "outputs": [
    {
     "data": {
      "text/plain": [
       "            평균기온  최대풍속  평균풍속\n",
       "일시                          \n",
       "2013-08-08  31.3   7.8   4.6"
      ],
      "text/html": [
       "<div>\n",
       "<style scoped>\n",
       "    .dataframe tbody tr th:only-of-type {\n",
       "        vertical-align: middle;\n",
       "    }\n",
       "\n",
       "    .dataframe tbody tr th {\n",
       "        vertical-align: top;\n",
       "    }\n",
       "\n",
       "    .dataframe thead th {\n",
       "        text-align: right;\n",
       "    }\n",
       "</style>\n",
       "<table border=\"1\" class=\"dataframe\">\n",
       "  <thead>\n",
       "    <tr style=\"text-align: right;\">\n",
       "      <th></th>\n",
       "      <th>평균기온</th>\n",
       "      <th>최대풍속</th>\n",
       "      <th>평균풍속</th>\n",
       "    </tr>\n",
       "    <tr>\n",
       "      <th>일시</th>\n",
       "      <th></th>\n",
       "      <th></th>\n",
       "      <th></th>\n",
       "    </tr>\n",
       "  </thead>\n",
       "  <tbody>\n",
       "    <tr>\n",
       "      <th>2013-08-08</th>\n",
       "      <td>31.3</td>\n",
       "      <td>7.8</td>\n",
       "      <td>4.6</td>\n",
       "    </tr>\n",
       "  </tbody>\n",
       "</table>\n",
       "</div>"
      ]
     },
     "execution_count": 36,
     "metadata": {},
     "output_type": "execute_result"
    }
   ],
   "execution_count": 36
  }
 ],
 "metadata": {
  "kernelspec": {
   "display_name": "Python 3",
   "language": "python",
   "name": "python3"
  },
  "language_info": {
   "codemirror_mode": {
    "name": "ipython",
    "version": 2
   },
   "file_extension": ".py",
   "mimetype": "text/x-python",
   "name": "python",
   "nbconvert_exporter": "python",
   "pygments_lexer": "ipython2",
   "version": "2.7.6"
  }
 },
 "nbformat": 4,
 "nbformat_minor": 5
}
