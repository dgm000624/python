{
 "cells": [
  {
   "cell_type": "code",
   "id": "initial_id",
   "metadata": {
    "collapsed": true,
    "ExecuteTime": {
     "end_time": "2025-10-23T01:05:29.633951Z",
     "start_time": "2025-10-23T01:05:29.630662Z"
    }
   },
   "source": "import seaborn as sns",
   "outputs": [],
   "execution_count": 1
  },
  {
   "metadata": {
    "ExecuteTime": {
     "end_time": "2025-10-23T01:05:30.136035Z",
     "start_time": "2025-10-23T01:05:30.134294Z"
    }
   },
   "cell_type": "code",
   "source": "import pandas as pd",
   "id": "77311510d1c415e9",
   "outputs": [],
   "execution_count": 2
  },
  {
   "metadata": {
    "ExecuteTime": {
     "end_time": "2025-10-23T01:05:31.727118Z",
     "start_time": "2025-10-23T01:05:31.682317Z"
    }
   },
   "cell_type": "code",
   "source": "titanic = sns.load_dataset(\"titanic\")",
   "id": "f5b0fbc10dd9bee3",
   "outputs": [],
   "execution_count": 3
  },
  {
   "metadata": {
    "ExecuteTime": {
     "end_time": "2025-10-23T01:05:34.421295Z",
     "start_time": "2025-10-23T01:05:34.416159Z"
    }
   },
   "cell_type": "code",
   "source": "print(titanic.head())",
   "id": "4be50c5a70863cb",
   "outputs": [
    {
     "name": "stdout",
     "output_type": "stream",
     "text": [
      "   survived  pclass     sex   age  sibsp  parch     fare embarked  class  \\\n",
      "0         0       3    male  22.0      1      0   7.2500        S  Third   \n",
      "1         1       1  female  38.0      1      0  71.2833        C  First   \n",
      "2         1       3  female  26.0      0      0   7.9250        S  Third   \n",
      "3         1       1  female  35.0      1      0  53.1000        S  First   \n",
      "4         0       3    male  35.0      0      0   8.0500        S  Third   \n",
      "\n",
      "     who  adult_male deck  embark_town alive  alone  \n",
      "0    man        True  NaN  Southampton    no  False  \n",
      "1  woman       False    C    Cherbourg   yes  False  \n",
      "2  woman       False  NaN  Southampton   yes   True  \n",
      "3  woman       False    C  Southampton   yes  False  \n",
      "4    man        True  NaN  Southampton    no   True  \n"
     ]
    }
   ],
   "execution_count": 4
  },
  {
   "metadata": {
    "ExecuteTime": {
     "end_time": "2025-10-23T01:08:00.425664Z",
     "start_time": "2025-10-23T01:07:59.601015Z"
    }
   },
   "cell_type": "code",
   "source": "titanic.to_csv(path_or_buf=\"titanic.csv\", index=False)",
   "id": "922bf6b0c5a7f3a5",
   "outputs": [],
   "execution_count": 5
  },
  {
   "metadata": {
    "ExecuteTime": {
     "end_time": "2025-10-23T01:11:57.101538Z",
     "start_time": "2025-10-23T01:11:57.097541Z"
    }
   },
   "cell_type": "code",
   "source": [
    "print(titanic.isnull().sum())\n",
    "print(titanic.isna().sum())"
   ],
   "id": "d98bd6d8e520006f",
   "outputs": [
    {
     "name": "stdout",
     "output_type": "stream",
     "text": [
      "survived         0\n",
      "pclass           0\n",
      "sex              0\n",
      "age            177\n",
      "sibsp            0\n",
      "parch            0\n",
      "fare             0\n",
      "embarked         2\n",
      "class            0\n",
      "who              0\n",
      "adult_male       0\n",
      "deck           688\n",
      "embark_town      2\n",
      "alive            0\n",
      "alone            0\n",
      "dtype: int64\n",
      "survived         0\n",
      "pclass           0\n",
      "sex              0\n",
      "age            177\n",
      "sibsp            0\n",
      "parch            0\n",
      "fare             0\n",
      "embarked         2\n",
      "class            0\n",
      "who              0\n",
      "adult_male       0\n",
      "deck           688\n",
      "embark_town      2\n",
      "alive            0\n",
      "alone            0\n",
      "dtype: int64\n"
     ]
    }
   ],
   "execution_count": 11
  },
  {
   "metadata": {
    "ExecuteTime": {
     "end_time": "2025-10-23T01:15:50.024721Z",
     "start_time": "2025-10-23T01:15:50.021536Z"
    }
   },
   "cell_type": "code",
   "source": "titanic['age']=titanic['age'].fillna(titanic['age'].median())",
   "id": "f374eb31a6a5e1f",
   "outputs": [],
   "execution_count": 12
  },
  {
   "metadata": {
    "ExecuteTime": {
     "end_time": "2025-10-23T01:16:18.935918Z",
     "start_time": "2025-10-23T01:16:18.933587Z"
    }
   },
   "cell_type": "code",
   "source": "print(titanic['age'].isna().sum())",
   "id": "4a8d6fc2896dce4e",
   "outputs": [
    {
     "name": "stdout",
     "output_type": "stream",
     "text": [
      "0\n"
     ]
    }
   ],
   "execution_count": 13
  },
  {
   "metadata": {
    "ExecuteTime": {
     "end_time": "2025-10-23T01:16:48.438930Z",
     "start_time": "2025-10-23T01:16:47.542140Z"
    }
   },
   "cell_type": "code",
   "source": "titanic['embarked'].value_counts()",
   "id": "d1bef6a126c3246d",
   "outputs": [
    {
     "data": {
      "text/plain": [
       "embarked\n",
       "S    644\n",
       "C    168\n",
       "Q     77\n",
       "Name: count, dtype: int64"
      ]
     },
     "execution_count": 14,
     "metadata": {},
     "output_type": "execute_result"
    }
   ],
   "execution_count": 14
  },
  {
   "metadata": {
    "ExecuteTime": {
     "end_time": "2025-10-23T01:17:51.442074Z",
     "start_time": "2025-10-23T01:17:51.438736Z"
    }
   },
   "cell_type": "code",
   "source": "titanic['embarked'] = titanic['embarked'].fillna('Southampton')",
   "id": "f3d6d1399590bcc3",
   "outputs": [],
   "execution_count": 15
  },
  {
   "metadata": {
    "ExecuteTime": {
     "end_time": "2025-10-23T01:18:20.568991Z",
     "start_time": "2025-10-23T01:18:20.566484Z"
    }
   },
   "cell_type": "code",
   "source": "print(titanic['embarked'].isna().sum())",
   "id": "497804b8025e981f",
   "outputs": [
    {
     "name": "stdout",
     "output_type": "stream",
     "text": [
      "0\n"
     ]
    }
   ],
   "execution_count": 16
  },
  {
   "metadata": {
    "ExecuteTime": {
     "end_time": "2025-10-23T01:23:56.002212Z",
     "start_time": "2025-10-23T01:23:55.998539Z"
    }
   },
   "cell_type": "code",
   "source": "print(titanic.isnull().sum())",
   "id": "9440809e6f485359",
   "outputs": [
    {
     "name": "stdout",
     "output_type": "stream",
     "text": [
      "survived       0\n",
      "pclass         0\n",
      "sex            0\n",
      "age            0\n",
      "sibsp          0\n",
      "parch          0\n",
      "fare           0\n",
      "embarked       0\n",
      "class          0\n",
      "who            0\n",
      "adult_male     0\n",
      "deck           0\n",
      "embark_town    2\n",
      "alive          0\n",
      "alone          0\n",
      "dtype: int64\n"
     ]
    }
   ],
   "execution_count": 21
  },
  {
   "metadata": {
    "ExecuteTime": {
     "end_time": "2025-10-23T01:23:54.856073Z",
     "start_time": "2025-10-23T01:23:54.854036Z"
    }
   },
   "cell_type": "code",
   "source": "titanic['deck']=titanic['deck'].fillna('C')",
   "id": "ce5796603eecda1b",
   "outputs": [],
   "execution_count": 20
  },
  {
   "metadata": {},
   "cell_type": "code",
   "outputs": [],
   "execution_count": null,
   "source": "",
   "id": "f6dff98cd7c049e1"
  }
 ],
 "metadata": {
  "kernelspec": {
   "display_name": "Python 3",
   "language": "python",
   "name": "python3"
  },
  "language_info": {
   "codemirror_mode": {
    "name": "ipython",
    "version": 2
   },
   "file_extension": ".py",
   "mimetype": "text/x-python",
   "name": "python",
   "nbconvert_exporter": "python",
   "pygments_lexer": "ipython2",
   "version": "2.7.6"
  }
 },
 "nbformat": 4,
 "nbformat_minor": 5
}
