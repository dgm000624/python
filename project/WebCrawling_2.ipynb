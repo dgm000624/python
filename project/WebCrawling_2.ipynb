{
 "cells": [
  {
   "metadata": {
    "ExecuteTime": {
     "end_time": "2025-10-16T00:01:09.709185Z",
     "start_time": "2025-10-16T00:00:55.223122Z"
    }
   },
   "cell_type": "code",
   "source": [
    "from bs4 import BeautifulSoup\n",
    "from selenium import webdriver\n",
    "\n",
    "wd = webdriver.Chrome() # 생성자 호출 (크롬)\n",
    "wd.get(url=\"https://www.coffeebeankorea.com/store/store.asp\")\n",
    "wd.execute_script(script=\"storePop2('363')\")"
   ],
   "id": "3856e3501101529b",
   "outputs": [
    {
     "name": "stderr",
     "output_type": "stream",
     "text": [
      "Error sending stats to Plausible: error sending request for url (https://plausible.io/api/event)\n"
     ]
    }
   ],
   "execution_count": 1
  },
  {
   "metadata": {
    "ExecuteTime": {
     "end_time": "2025-10-16T00:01:10.006690Z",
     "start_time": "2025-10-16T00:01:09.723879Z"
    }
   },
   "cell_type": "code",
   "source": [
    "html = wd.page_source\n",
    "soup = BeautifulSoup(html, 'html.parser')\n",
    "store_name_h2 = soup.select('div.store_txt > h2')\n",
    "print(store_name_h2)\n",
    "print(store_name_h2[0].text)"
   ],
   "id": "b00116704743e4e4",
   "outputs": [
    {
     "name": "stdout",
     "output_type": "stream",
     "text": [
      "[]\n"
     ]
    },
    {
     "ename": "IndexError",
     "evalue": "list index out of range",
     "output_type": "error",
     "traceback": [
      "\u001B[31m---------------------------------------------------------------------------\u001B[39m",
      "\u001B[31mIndexError\u001B[39m                                Traceback (most recent call last)",
      "\u001B[36mCell\u001B[39m\u001B[36m \u001B[39m\u001B[32mIn[2]\u001B[39m\u001B[32m, line 5\u001B[39m\n\u001B[32m      3\u001B[39m store_name_h2 = soup.select(\u001B[33m'\u001B[39m\u001B[33mdiv.store_txt > h2\u001B[39m\u001B[33m'\u001B[39m)\n\u001B[32m      4\u001B[39m \u001B[38;5;28mprint\u001B[39m(store_name_h2)\n\u001B[32m----> \u001B[39m\u001B[32m5\u001B[39m \u001B[38;5;28mprint\u001B[39m(\u001B[43mstore_name_h2\u001B[49m\u001B[43m[\u001B[49m\u001B[32;43m0\u001B[39;49m\u001B[43m]\u001B[49m.text)\n",
      "\u001B[31mIndexError\u001B[39m: list index out of range"
     ]
    }
   ],
   "execution_count": 2
  },
  {
   "metadata": {
    "ExecuteTime": {
     "end_time": "2025-10-16T00:01:10.021456500Z",
     "start_time": "2025-10-15T07:00:41.679002Z"
    }
   },
   "cell_type": "code",
   "source": [
    "# 매장 주소 출력하기\n",
    "store_info = soup.select(selector='div.store_txt > table.store_table > tbody > tr > td')\n",
    "print(store_info)"
   ],
   "id": "f082cd1a18712c84",
   "outputs": [
    {
     "name": "stdout",
     "output_type": "stream",
     "text": [
      "[<td>평일 07:00~22:00 | 토-일 07:30~22:00</td>, <td>주차 불가<br/>(추석 영업시간 10/5~7 08:00 ~ 22:00)</td>, <td>서울시 서초구 서초중앙로 209, 해성빌딩 1층  <!--span class=\"lot\">(서울시 서초구 서초중앙로 209, 해성빌딩 1층)</span--></td>, <td>02-537-2992</td>]\n"
     ]
    }
   ],
   "execution_count": 9
  },
  {
   "metadata": {
    "ExecuteTime": {
     "end_time": "2025-10-16T00:01:10.024620800Z",
     "start_time": "2025-10-15T07:01:37.979857Z"
    }
   },
   "cell_type": "code",
   "source": [
    "store_address_list = list(store_info[2])\n",
    "print(store_address_list)"
   ],
   "id": "583560df4ca0bbeb",
   "outputs": [
    {
     "name": "stdout",
     "output_type": "stream",
     "text": [
      "['서울시 서초구 서초중앙로 209, 해성빌딩 1층  ', 'span class=\"lot\">(서울시 서초구 서초중앙로 209, 해성빌딩 1층)</span']\n"
     ]
    }
   ],
   "execution_count": 10
  },
  {
   "metadata": {
    "ExecuteTime": {
     "end_time": "2025-10-16T00:01:10.024620800Z",
     "start_time": "2025-10-15T07:02:29.680165Z"
    }
   },
   "cell_type": "code",
   "source": "print(store_address_list[0].text)",
   "id": "108920f784e3f2f0",
   "outputs": [
    {
     "name": "stdout",
     "output_type": "stream",
     "text": [
      "서울시 서초구 서초중앙로 209, 해성빌딩 1층  \n"
     ]
    }
   ],
   "execution_count": 15
  },
  {
   "metadata": {
    "ExecuteTime": {
     "end_time": "2025-10-16T00:01:10.025626700Z",
     "start_time": "2025-10-15T07:03:43.778410Z"
    }
   },
   "cell_type": "code",
   "source": [
    "# 매장 전화번호 출력하기\n",
    "store_phone = store_info[3].text\n",
    "print(store_phone)"
   ],
   "id": "fcb7315ff1b35dab",
   "outputs": [
    {
     "name": "stdout",
     "output_type": "stream",
     "text": [
      "02-537-2992\n"
     ]
    }
   ],
   "execution_count": 16
  },
  {
   "metadata": {},
   "cell_type": "code",
   "outputs": [],
   "execution_count": null,
   "source": "",
   "id": "5ea17c4468324f6e"
  }
 ],
 "metadata": {
  "kernelspec": {
   "display_name": "Python 3",
   "language": "python",
   "name": "python3"
  },
  "language_info": {
   "codemirror_mode": {
    "name": "ipython",
    "version": 2
   },
   "file_extension": ".py",
   "mimetype": "text/x-python",
   "name": "python",
   "nbconvert_exporter": "python",
   "pygments_lexer": "ipython2",
   "version": "2.7.6"
  }
 },
 "nbformat": 4,
 "nbformat_minor": 5
}
